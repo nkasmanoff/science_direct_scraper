{
 "cells": [
  {
   "cell_type": "code",
   "execution_count": 2,
   "metadata": {},
   "outputs": [],
   "source": [
    "from scraper.ihje_scraper import IHJEScraper\n",
    "import config"
   ]
  },
  {
   "cell_type": "code",
   "execution_count": 3,
   "metadata": {},
   "outputs": [],
   "source": [
    "scraper = IHJEScraper(executable_path=config.executable_path)\n",
    "# put here the path to your chromedriver, i.e. /Users/Desktop/chromedriver"
   ]
  },
  {
   "cell_type": "code",
   "execution_count": null,
   "metadata": {},
   "outputs": [],
   "source": [
    "url = 'https://www.sciencedirect.com/journal/international-journal-of-hydrogen-energy/vol/47/issue/1'"
   ]
  },
  {
   "cell_type": "code",
   "execution_count": 4,
   "metadata": {},
   "outputs": [],
   "source": [
    "journals = scraper.get_journal_structure(url)"
   ]
  },
  {
   "cell_type": "code",
   "execution_count": 7,
   "metadata": {},
   "outputs": [
    {
     "data": {
      "text/plain": [
       "dict_keys(['Hydrogen Economy / Commercialization', 'Electrolysis / Electrolyzers', 'Chemical, Thermochemical & Electrochemical Hydrogen', 'Bio Hydrogen / Bio Gasification', 'Fossil Hydrogen / Gasification', 'Catalysts / Electrocatalysts /Photocatalysts', 'Purification / Separation / Membranes', 'Hydrogen Carriers / Liquefaction', 'Hydrides / Hydrogen Storage', 'MH Batteries / MH Applications', 'Fuel Cells & Applications', 'Heat Engines / Combustion / Heat Transfer', 'Embrittlement / Properties', 'Environmental Impact / Emissions', 'Safety / Sensors'])"
      ]
     },
     "execution_count": 7,
     "metadata": {},
     "output_type": "execute_result"
    }
   ],
   "source": [
    "journals.keys()"
   ]
  },
  {
   "cell_type": "code",
   "execution_count": 8,
   "metadata": {},
   "outputs": [
    {
     "name": "stdout",
     "output_type": "stream",
     "text": [
      "Message: no such element: Unable to locate element: {\"method\":\"css selector\",\"selector\":\".js-abstract-body-text\"}\n",
      "  (Session info: chrome=102.0.5005.115)\n",
      "Stacktrace:\n",
      "0   chromedriver                        0x0000000101239170 chromedriver + 4477296\n",
      "1   chromedriver                        0x00000001011d0c18 chromedriver + 4049944\n",
      "2   chromedriver                        0x0000000100e22d40 chromedriver + 191808\n",
      "3   chromedriver                        0x0000000100e51b28 chromedriver + 383784\n",
      "4   chromedriver                        0x0000000100e48254 chromedriver + 344660\n",
      "5   chromedriver                        0x0000000100e7a85c chromedriver + 551004\n",
      "6   chromedriver                        0x0000000100e46f58 chromedriver + 339800\n",
      "7   chromedriver                        0x000000010120ebd4 chromedriver + 4303828\n",
      "8   chromedriver                        0x0000000101213094 chromedriver + 4321428\n",
      "9   chromedriver                        0x0000000101217600 chromedriver + 4339200\n",
      "10  chromedriver                        0x0000000101213af4 chromedriver + 4324084\n",
      "11  chromedriver                        0x00000001011f252c chromedriver + 4187436\n",
      "12  chromedriver                        0x000000010122b488 chromedriver + 4420744\n",
      "13  chromedriver                        0x000000010122b5ec chromedriver + 4421100\n",
      "14  chromedriver                        0x000000010123f92c chromedriver + 4503852\n",
      "15  libsystem_pthread.dylib             0x0000000182795240 _pthread_start + 148\n",
      "16  libsystem_pthread.dylib             0x0000000182790024 thread_start + 8\n",
      "\n"
     ]
    }
   ],
   "source": [
    "abstracts = scraper.get_abstracts(volume_number=47, issue_number=12)"
   ]
  },
  {
   "cell_type": "code",
   "execution_count": 9,
   "metadata": {},
   "outputs": [
    {
     "data": {
      "text/html": [
       "<div>\n",
       "<style scoped>\n",
       "    .dataframe tbody tr th:only-of-type {\n",
       "        vertical-align: middle;\n",
       "    }\n",
       "\n",
       "    .dataframe tbody tr th {\n",
       "        vertical-align: top;\n",
       "    }\n",
       "\n",
       "    .dataframe thead th {\n",
       "        text-align: right;\n",
       "    }\n",
       "</style>\n",
       "<table border=\"1\" class=\"dataframe\">\n",
       "  <thead>\n",
       "    <tr style=\"text-align: right;\">\n",
       "      <th></th>\n",
       "      <th>title</th>\n",
       "      <th>authors</th>\n",
       "      <th>abstract</th>\n",
       "      <th>page_range</th>\n",
       "      <th>url</th>\n",
       "    </tr>\n",
       "  </thead>\n",
       "  <tbody>\n",
       "    <tr>\n",
       "      <th>0</th>\n",
       "      <td>Facile and rapid synthesis of Pt-NiOx/NiF comp...</td>\n",
       "      <td>Qun Li, Weiyi Cheng, Chao Zeng, Xiaofeng Zheng...</td>\n",
       "      <td>Abstract\\nA highly efficient and stable cataly...</td>\n",
       "      <td>Pages 7504-7510</td>\n",
       "      <td>https://www.sciencedirect.com/journal/internat...</td>\n",
       "    </tr>\n",
       "    <tr>\n",
       "      <th>1</th>\n",
       "      <td>A facile preparation of sulfur doped nickel–ir...</td>\n",
       "      <td>Jonghyun Choi, Alfred Nkhama, Anuj Kumar, Sanj...</td>\n",
       "      <td>Abstract\\nSince the use of diverse synthesis a...</td>\n",
       "      <td>Pages 7511-7521</td>\n",
       "      <td>https://www.sciencedirect.com/journal/internat...</td>\n",
       "    </tr>\n",
       "    <tr>\n",
       "      <th>2</th>\n",
       "      <td>Experimental study of hydrogen production usin...</td>\n",
       "      <td>Shihao Wei, Javad Hikmati, Boris V. Balakin, P...</td>\n",
       "      <td>Abstract\\nIn this research, we conducted water...</td>\n",
       "      <td>Pages 7522-7534</td>\n",
       "      <td>https://www.sciencedirect.com/journal/internat...</td>\n",
       "    </tr>\n",
       "    <tr>\n",
       "      <th>3</th>\n",
       "      <td>Influence of hydrodynamic parameters on the cr...</td>\n",
       "      <td>Hae-Kyun Park, Jeong-Won Han, Bum-Jin Chung</td>\n",
       "      <td>Abstract\\nHydrogen production rate increases a...</td>\n",
       "      <td>Pages 7535-7546</td>\n",
       "      <td>https://www.sciencedirect.com/journal/internat...</td>\n",
       "    </tr>\n",
       "    <tr>\n",
       "      <th>4</th>\n",
       "      <td>Modelling the hydrodynamics and kinetics of me...</td>\n",
       "      <td>Lionel J.J. Catalan, Ebrahim Rezaei</td>\n",
       "      <td>Abstract\\nBubble reactors using molten metal a...</td>\n",
       "      <td>Pages 7547-7568</td>\n",
       "      <td>https://www.sciencedirect.com/journal/internat...</td>\n",
       "    </tr>\n",
       "  </tbody>\n",
       "</table>\n",
       "</div>"
      ],
      "text/plain": [
       "                                               title  \\\n",
       "0  Facile and rapid synthesis of Pt-NiOx/NiF comp...   \n",
       "1  A facile preparation of sulfur doped nickel–ir...   \n",
       "2  Experimental study of hydrogen production usin...   \n",
       "3  Influence of hydrodynamic parameters on the cr...   \n",
       "4  Modelling the hydrodynamics and kinetics of me...   \n",
       "\n",
       "                                             authors  \\\n",
       "0  Qun Li, Weiyi Cheng, Chao Zeng, Xiaofeng Zheng...   \n",
       "1  Jonghyun Choi, Alfred Nkhama, Anuj Kumar, Sanj...   \n",
       "2  Shihao Wei, Javad Hikmati, Boris V. Balakin, P...   \n",
       "3        Hae-Kyun Park, Jeong-Won Han, Bum-Jin Chung   \n",
       "4                Lionel J.J. Catalan, Ebrahim Rezaei   \n",
       "\n",
       "                                            abstract       page_range  \\\n",
       "0  Abstract\\nA highly efficient and stable cataly...  Pages 7504-7510   \n",
       "1  Abstract\\nSince the use of diverse synthesis a...  Pages 7511-7521   \n",
       "2  Abstract\\nIn this research, we conducted water...  Pages 7522-7534   \n",
       "3  Abstract\\nHydrogen production rate increases a...  Pages 7535-7546   \n",
       "4  Abstract\\nBubble reactors using molten metal a...  Pages 7547-7568   \n",
       "\n",
       "                                                 url  \n",
       "0  https://www.sciencedirect.com/journal/internat...  \n",
       "1  https://www.sciencedirect.com/journal/internat...  \n",
       "2  https://www.sciencedirect.com/journal/internat...  \n",
       "3  https://www.sciencedirect.com/journal/internat...  \n",
       "4  https://www.sciencedirect.com/journal/internat...  "
      ]
     },
     "execution_count": 9,
     "metadata": {},
     "output_type": "execute_result"
    }
   ],
   "source": [
    "abstracts.head()"
   ]
  },
  {
   "cell_type": "code",
   "execution_count": null,
   "metadata": {},
   "outputs": [],
   "source": []
  }
 ],
 "metadata": {
  "kernelspec": {
   "display_name": "Python 3.8.5 ('nlp')",
   "language": "python",
   "name": "python3"
  },
  "language_info": {
   "codemirror_mode": {
    "name": "ipython",
    "version": 3
   },
   "file_extension": ".py",
   "mimetype": "text/x-python",
   "name": "python",
   "nbconvert_exporter": "python",
   "pygments_lexer": "ipython3",
   "version": "3.8.5"
  },
  "orig_nbformat": 4,
  "vscode": {
   "interpreter": {
    "hash": "027adea4ccb26ac36c41c41f87aab03e8673594044752e67732717f7cc244acc"
   }
  }
 },
 "nbformat": 4,
 "nbformat_minor": 2
}
